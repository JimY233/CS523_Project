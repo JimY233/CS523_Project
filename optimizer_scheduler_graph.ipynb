{
  "nbformat": 4,
  "nbformat_minor": 0,
  "metadata": {
    "colab": {
      "name": "optimizer_scheduler_graph.ipynb",
      "provenance": [],
      "collapsed_sections": []
    },
    "kernelspec": {
      "name": "python3",
      "display_name": "Python 3"
    },
    "language_info": {
      "name": "python"
    }
  },
  "cells": [
    {
      "cell_type": "code",
      "metadata": {
        "id": "IoyWOKo4hu_6"
      },
      "source": [
        "import matplotlib.pyplot as plt\n",
        "import numpy as np\n"
      ],
      "execution_count": 13,
      "outputs": []
    },
    {
      "cell_type": "code",
      "metadata": {
        "id": "MGg7aMM2h4OE"
      },
      "source": [
        "#optimizer\n",
        "optimizer=['Adadelta','Adagrad','Adam','Adam\\nAMSGrad','ASGD','SGD','SGD\\nNesterov']\n",
        "#Constant LR\n",
        "cons_lr=[59.7660,70.0195,69.3229,70.1867,65.1435,69.0164,70.9111]\n",
        "#Decaying LR\n",
        "dec_lr=[70.3539,64.5305,64.4469,58.8465,71.1897,71.6356,73.7253]"
      ],
      "execution_count": 26,
      "outputs": []
    },
    {
      "cell_type": "code",
      "metadata": {
        "colab": {
          "base_uri": "https://localhost:8080/",
          "height": 281
        },
        "id": "1g-YH-uulovs",
        "outputId": "03680695-f845-4ec9-e1c3-c7488af4aa87"
      },
      "source": [
        "ax = plt.subplot(111)\n",
        "w = 0.8\n",
        "x=[i for i in range(0,21,3)]\n",
        "xw=[i+w for i in x]\n",
        "ax.bar(x, cons_lr, width=w, color='orange', align='center',label=\"Constant LR\")\n",
        "ax.bar(xw, dec_lr, width=w, color='g', align='center',label=\"Decaying LR\")\n",
        "plt.ylim(55,75)\n",
        "plt.xticks(x,optimizer)\n",
        "plt.ylabel(\"Validation Accuracy (%)\")\n",
        "plt.legend(loc='upper left')\n",
        "plt.show()"
      ],
      "execution_count": 59,
      "outputs": [
        {
          "output_type": "display_data",
          "data": {
            "image/png": "[encoded data removed]",
            "text/plain": [
              "<Figure size 432x288 with 1 Axes>"
            ]
          },
          "metadata": {
            "tags": [],
            "needs_background": "light"
          }
        }
      ]
    },
    {
      "cell_type": "code",
      "metadata": {
        "id": "_p3NQrLkmk1b"
      },
      "source": [
        "#Scheduler\n",
        "scheduler=['OneCycleLR','StepLR','Constant','Cosine','CosineWR','RLRP']\n",
        "val=[69.6851,72.8058,70.9111,69.6851,71.6634,73.6974]\n",
        "test=[67.5397,71.8027,68.8493,67.8183,70.7161,71.9420]"
      ],
      "execution_count": 45,
      "outputs": []
    },
    {
      "cell_type": "code",
      "metadata": {
        "colab": {
          "base_uri": "https://localhost:8080/",
          "height": 269
        },
        "id": "-b-uoJOgtUPB",
        "outputId": "15feae3a-e099-476d-b955-7d3bf914771f"
      },
      "source": [
        "ax = plt.subplot(111)\n",
        "w = 0.8\n",
        "x1=[i for i in range(0,18,3)]\n",
        "xw1=[i+w for i in x1]\n",
        "ax.bar(x1, val, width=w, color='orange', align='center',label=\"Validation\")\n",
        "ax.bar(xw1, test, width=w, color='g', align='center',label=\"Testing\")\n",
        "plt.ylim(60,76)\n",
        "plt.xticks(x1,scheduler)\n",
        "plt.ylabel(\"Accuracy (%)\")\n",
        "plt.legend(loc='upper left')\n",
        "plt.show()"
      ],
      "execution_count": 58,
      "outputs": [
        {
          "output_type": "display_data",
          "data": {
            "image/png": "[encoded data removed]",
            "text/plain": [
              "<Figure size 432x288 with 1 Axes>"
            ]
          },
          "metadata": {
            "tags": [],
            "needs_background": "light"
          }
        }
      ]
    },
    {
      "cell_type": "code",
      "metadata": {
        "id": "Derds4rctm8b"
      },
      "source": [
        ""
      ],
      "execution_count": null,
      "outputs": []
    }
  ]
}